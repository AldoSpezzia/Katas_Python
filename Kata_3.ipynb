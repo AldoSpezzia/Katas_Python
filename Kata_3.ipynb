{
 "cells": [
  {
   "cell_type": "markdown",
   "metadata": {},
   "source": [
    "## Kata Modulo No. 3 Declaraciones if, else y elif"
   ]
  },
  {
   "cell_type": "markdown",
   "metadata": {},
   "source": [
    "Problema 1"
   ]
  },
  {
   "cell_type": "code",
   "execution_count": 16,
   "metadata": {},
   "outputs": [
    {
     "name": "stdout",
     "output_type": "stream",
     "text": [
      "!!!Cuidado un asteroide se acerca a la tierra Salvate!!!\n",
      "La fecha de hoy es: 2022-02-11\n"
     ]
    }
   ],
   "source": [
    "from datetime import date\n",
    "\n",
    "vel = 49\n",
    "\n",
    "if vel <= 25:\n",
    "    print('Todo correcto ')\n",
    "else:\n",
    "    print('!!!Cuidado un asteroide se acerca a la tierra Salvate!!!')\n",
    "print('La fecha de hoy es:', date.today())\n",
    "\n"
   ]
  },
  {
   "cell_type": "code",
   "execution_count": 53,
   "metadata": {},
   "outputs": [
    {
     "name": "stdout",
     "output_type": "stream",
     "text": [
      "Mira hacia al cielo hay un asteroide se ve un destello\n",
      "La fecha de hoy es:  2022-02-11\n"
     ]
    }
   ],
   "source": [
    "from datetime import date\n",
    "ast_vel = 39\n",
    "\n",
    "if ast_vel >=20:\n",
    "    print('Mira hacia al cielo hay un asteroide se ve un destello')\n",
    "elif ast_vel == 20:\n",
    "    print('Mira hacia al cielo hay un asteroide se ve un destello')\n",
    "else:\n",
    "        print('No hay nada por aquí')\n",
    "\n",
    "print('La fecha de hoy es: ', date.today())"
   ]
  },
  {
   "cell_type": "markdown",
   "metadata": {},
   "source": [
    "## Uso de operadores and y or"
   ]
  },
  {
   "cell_type": "code",
   "execution_count": 78,
   "metadata": {},
   "outputs": [
    {
     "name": "stdout",
     "output_type": "stream",
     "text": [
      "Mira al cielo es el destello de un asteroide y ten mucho cuidado ya que es de gran tamaño\n",
      "La fecha de hoy es:  2022-02-12\n"
     ]
    }
   ],
   "source": [
    "#Queria que el programa tuviera más opciones :)\n",
    "\n",
    "from datetime import date\n",
    "\n",
    "dimension_asteroide = 25\n",
    "vel = 24\n",
    "\n",
    "if dimension_asteroide >=25 and vel >=25:\n",
    "    print('Cuidado se acerca un asteroide de gran tamaño a la tierra Corre!!!!')\n",
    "elif dimension_asteroide >=25 and vel <20:\n",
    "    print('Mucho cuidado hay un asteroide cerca de la tierra de gran tamaño pero no se puede ver el destello')\n",
    "elif dimension_asteroide >=25 and vel == 20:\n",
    "    print('Mira al cielo es el destello de un asteroide')    \n",
    "elif dimension_asteroide <25 and vel >=20:\n",
    "    print('Mira al cielo es el destello de un asteroide')\n",
    "elif dimension_asteroide >=25 and vel >=20:\n",
    "    print('Mira al cielo es el destello de un asteroide y ten mucho cuidado ya que es de gran tamaño')   \n",
    "elif dimension_asteroide <25 and vel <20:\n",
    "    print('No hay nada de que preocuparse')\n",
    "else:\n",
    "    print('No hay nada de que preocuparse')\n",
    "\n",
    "print('La fecha de hoy es: ', date.today())"
   ]
  },
  {
   "cell_type": "code",
   "execution_count": 81,
   "metadata": {},
   "outputs": [
    {
     "name": "stdout",
     "output_type": "stream",
     "text": [
      "Look up! ¡Hay una luz mágica en el cielo!\n"
     ]
    }
   ],
   "source": [
    "velocidad_asteroide = 25\n",
    "tamano_asteroide = 24\n",
    "if velocidad_asteroide > 25 and tamano_asteroide > 25:\n",
    "    print('¡Alerta, Un asteroide muy peligroso viene hacia la Tierra!')\n",
    "elif velocidad_asteroide >= 20:\n",
    "    print('Look up! ¡Hay una luz mágica en el cielo!')\n",
    "elif tamano_asteroide < 25:\n",
    "    print('Nada que ver aquí :)')\n",
    "else:\n",
    "    print('Nada que ver aquí :)')"
   ]
  },
  {
   "cell_type": "code",
   "execution_count": 3,
   "metadata": {},
   "outputs": [
    {
     "name": "stdout",
     "output_type": "stream",
     "text": [
      "Aldo Spezzia Posadas Cuidado se acerca un asteroide de gran tamaño a la tierra Corre!!!!\n",
      "La fecha de hoy es:  2022-02-12\n"
     ]
    }
   ],
   "source": [
    "#Intentando predecir insertando datos\n",
    "\n",
    "from datetime import date\n",
    "\n",
    "nombre = input(str('Cual es tu nombre?'))\n",
    "\n",
    "dimension_asteroide = int(input('Cual es la dimension en metros del asteroide'))\n",
    "vel = int(input('Cual es la velocidad en (km/s) del asteroide'))\n",
    "\n",
    "if dimension_asteroide >=25 and vel >=25:\n",
    "    print(str(nombre + ' Cuidado se acerca un asteroide de gran tamaño a la tierra Corre!!!!'))\n",
    "elif dimension_asteroide >=25 and vel <20:\n",
    "    print(str(nombre + ' Mucho cuidado hay un asteroide cerca de la tierra de gran tamaño pero no se puede ver el destello'))\n",
    "elif dimension_asteroide >=25 and vel == 20:\n",
    "    print(str(nombre + ' Mira al cielo es el destello de un asteroide'))    \n",
    "elif dimension_asteroide <25 and vel >=20:\n",
    "    print(str(nombre + ' Mira al cielo es el destello de un asteroide'))\n",
    "elif dimension_asteroide >=25 and vel >=20:\n",
    "    print(str(nombre + ' Mira al cielo es el destello de un asteroide y ten mucho cuidado ya que es de gran tamaño'))   \n",
    "elif dimension_asteroide <25 and vel <20:\n",
    "    print(str(nombre + ' No hay nada de que preocuparse'))\n",
    "else:\n",
    "    print('No hay nada de que preocuparse')\n",
    "\n",
    "\n",
    "print('La fecha de hoy es: ', date.today())"
   ]
  }
 ],
 "metadata": {
  "interpreter": {
   "hash": "fa431b1649e9cc06f33d1e08cc21a1b9c291496267cac684427f3fe28d5189dc"
  },
  "kernelspec": {
   "display_name": "Python 3.10.2 64-bit (windows store)",
   "language": "python",
   "name": "python3"
  },
  "language_info": {
   "codemirror_mode": {
    "name": "ipython",
    "version": 3
   },
   "file_extension": ".py",
   "mimetype": "text/x-python",
   "name": "python",
   "nbconvert_exporter": "python",
   "pygments_lexer": "ipython3",
   "version": "3.10.2"
  },
  "orig_nbformat": 4
 },
 "nbformat": 4,
 "nbformat_minor": 2
}
