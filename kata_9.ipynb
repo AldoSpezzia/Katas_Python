{
 "cells": [
  {
   "cell_type": "markdown",
   "metadata": {},
   "source": [
    "## Uso de funciones en Python"
   ]
  },
  {
   "cell_type": "code",
   "execution_count": 2,
   "metadata": {},
   "outputs": [],
   "source": [
    "def generate_report(tanque_princial, tanque_externo, tanque_hidrogeno):\n",
    "    total_promedio = (tanque_princial + tanque_externo + tanque_hidrogeno) / 3\n",
    "    return f\"\"\"Informe combustible:\n",
    "\n",
    "    total_promedio: {total_promedio}\n",
    "    tanque_principal: {tanque_princial}\n",
    "    tanque_externo: {tanque_externo}\n",
    "    tanque_hidrogeno: {tanque_hidrogeno}\n",
    "    \n",
    "    \"\"\""
   ]
  },
  {
   "cell_type": "code",
   "execution_count": 4,
   "metadata": {},
   "outputs": [
    {
     "name": "stdout",
     "output_type": "stream",
     "text": [
      "Informe combustible:\n",
      "\n",
      "    total_promedio: 78.33333333333333\n",
      "    tanque_principal: 80\n",
      "    tanque_externo: 70\n",
      "    tanque_hidrogeno: 85\n",
      "    \n",
      "    \n"
     ]
    }
   ],
   "source": [
    "print(generate_report (80, 70, 85))"
   ]
  },
  {
   "cell_type": "code",
   "execution_count": 5,
   "metadata": {},
   "outputs": [],
   "source": [
    "def promedio (values):\n",
    "    total = sum(values)\n",
    "    numero_item = len(values)\n",
    "    return total/numero_item"
   ]
  },
  {
   "cell_type": "code",
   "execution_count": 6,
   "metadata": {},
   "outputs": [
    {
     "ename": "TypeError",
     "evalue": "'function' object is not subscriptable",
     "output_type": "error",
     "traceback": [
      "\u001b[1;31m---------------------------------------------------------------------------\u001b[0m",
      "\u001b[1;31mTypeError\u001b[0m                                 Traceback (most recent call last)",
      "\u001b[1;32mUntitled-1.ipynb Cell 5'\u001b[0m in \u001b[0;36m<module>\u001b[1;34m\u001b[0m\n\u001b[1;32m----> <a href='vscode-notebook-cell:Untitled-1.ipynb?jupyter-notebook#ch0000005untitled?line=0'>1</a>\u001b[0m \u001b[39mprint\u001b[39m(generate_report [\u001b[39m80\u001b[39;49m, \u001b[39m85\u001b[39;49m, \u001b[39m81\u001b[39;49m])\n",
      "\u001b[1;31mTypeError\u001b[0m: 'function' object is not subscriptable"
     ]
    }
   ],
   "source": [
    "## Muestra error\n",
    "print(generate_report [80, 85, 81])"
   ]
  },
  {
   "cell_type": "code",
   "execution_count": 14,
   "metadata": {},
   "outputs": [],
   "source": [
    "## Actualizar funcion \n",
    "def generate_report(tanque_principal, tanque_externo, tanque_hidrogeno):\n",
    "    return f\"\"\"Informe de combustible:\n",
    "    total_promedio: {promedio([tanque_principal, tanque_externo, tanque_hidrogeno])}%\n",
    "    Tanque principal: {tanque_principal}%\n",
    "    Tanque externo: {tanque_externo}%\n",
    "    Tanque hidrogeno: {tanque_hidrogeno}%\n",
    "    \"\"\"\n",
    "\n",
    "    "
   ]
  },
  {
   "cell_type": "code",
   "execution_count": 16,
   "metadata": {},
   "outputs": [
    {
     "name": "stdout",
     "output_type": "stream",
     "text": [
      "Informe de combustible:\n",
      "    total_promedio: 78.0%\n",
      "    Tanque principal: 88%\n",
      "    Tanque externo: 76%\n",
      "    Tanque hidrogeno: 70%\n",
      "    \n"
     ]
    }
   ],
   "source": [
    "print(generate_report (88, 76, 70))"
   ]
  },
  {
   "cell_type": "markdown",
   "metadata": {},
   "source": [
    "## Ejercicio 2 Trabajo con argumentos de palabra clave"
   ]
  },
  {
   "cell_type": "code",
   "execution_count": 17,
   "metadata": {},
   "outputs": [],
   "source": [
    "def informe_mision (hora_prelanzamiento, tiempo_vuelo, destino, tanque_externo, tanque_interno):\n",
    "    return f\"\"\" Informe mision:\n",
    "    \n",
    "    Mision a {destino}\n",
    "    Tiempo viaje: {hora_prelanzamiento + tiempo_vuelo} minutos\n",
    "    Total combustible:{tanque_externo + tanque_interno} galones\n",
    "\n",
    "    \"\"\""
   ]
  },
  {
   "cell_type": "code",
   "execution_count": 18,
   "metadata": {},
   "outputs": [
    {
     "name": "stdout",
     "output_type": "stream",
     "text": [
      " Informe mision:\n",
      "    \n",
      "    Mision a Luna\n",
      "    Tiempo viaje: 65 minutos\n",
      "    Total combustible:500000 galones\n",
      "\n",
      "    \n"
     ]
    }
   ],
   "source": [
    "print(informe_mision(14, 51, \"Luna\", 200000, 300000))"
   ]
  },
  {
   "cell_type": "code",
   "execution_count": 11,
   "metadata": {},
   "outputs": [],
   "source": [
    "def informe_mision(destino, *minutos, **deposito_combustible ):\n",
    "    return f\"\"\"\n",
    "    Mision a {destino} \n",
    "    Tiempo de viaje: {sum(minutos)} minutos\n",
    "    Total Combustible {sum(deposito_combustible.values())}\n",
    "\n",
    "    \"\"\""
   ]
  },
  {
   "cell_type": "code",
   "execution_count": 12,
   "metadata": {},
   "outputs": [
    {
     "name": "stdout",
     "output_type": "stream",
     "text": [
      "\n",
      "    Mision a Luna \n",
      "    Tiempo de viaje: 76 minutos\n",
      "    Total Combustible 500000\n",
      "\n",
      "    \n"
     ]
    }
   ],
   "source": [
    "print(informe_mision(\"Luna\", 10, 15, 51, interno=300000, externo=200000 ))"
   ]
  },
  {
   "cell_type": "code",
   "execution_count": 36,
   "metadata": {},
   "outputs": [],
   "source": [
    "def informe_mision (destino, *minutos, **deposito_combustible):\n",
    "    reporte_interno = f\"\"\"\n",
    "    \n",
    "    Mision a {destino}\n",
    "    Tiempo de viaje: {sum(minutos)} minutos\n",
    "    Total combustible: {sum(deposito_combustible.values())} \n",
    "\n",
    "    \"\"\"\n",
    "\n",
    "    for nombre_tanque, galones in deposito_combustible.items():\n",
    "        reporte_interno += f\"{nombre_tanque}, tanque ---> {galones} galones restantes\\n \"\n",
    "        return reporte_interno\n",
    "\n"
   ]
  },
  {
   "cell_type": "code",
   "execution_count": 39,
   "metadata": {},
   "outputs": [
    {
     "name": "stdout",
     "output_type": "stream",
     "text": [
      "\n",
      "    \n",
      "    Mision a Luna\n",
      "    Tiempo de viaje: 74 minutos\n",
      "    Total combustible: 500000 \n",
      "\n",
      "    interno, tanque ---> 300000 galones restantes\n",
      " \n"
     ]
    }
   ],
   "source": [
    "print(informe_mision(\"Luna\", 8, 11, 55, interno=300000, externo=200000))"
   ]
  }
 ],
 "metadata": {
  "interpreter": {
   "hash": "c1c759d16ac516526eeff6cfc60bd00933a017700619117cd592df3210e925b7"
  },
  "kernelspec": {
   "display_name": "Python 3.10.2 64-bit",
   "language": "python",
   "name": "python3"
  },
  "language_info": {
   "codemirror_mode": {
    "name": "ipython",
    "version": 3
   },
   "file_extension": ".py",
   "mimetype": "text/x-python",
   "name": "python",
   "nbconvert_exporter": "python",
   "pygments_lexer": "ipython3",
   "version": "3.10.2"
  },
  "orig_nbformat": 4
 },
 "nbformat": 4,
 "nbformat_minor": 2
}
