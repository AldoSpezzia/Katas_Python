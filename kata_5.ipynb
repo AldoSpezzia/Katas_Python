{
 "cells": [
  {
   "cell_type": "markdown",
   "metadata": {},
   "source": [
    "## Utilizar operadores aritmeticos"
   ]
  },
  {
   "cell_type": "code",
   "execution_count": 23,
   "metadata": {},
   "outputs": [
    {
     "name": "stdout",
     "output_type": "stream",
     "text": [
      "628949330\n"
     ]
    }
   ],
   "source": [
    "tierra = int(149597870)\n",
    "jupiter =int(778547200)\n",
    "\n",
    "calculo = abs((tierra - jupiter))\n",
    "print(calculo)"
   ]
  },
  {
   "cell_type": "code",
   "execution_count": 25,
   "metadata": {},
   "outputs": [
    {
     "name": "stdout",
     "output_type": "stream",
     "text": [
      "390577533\n"
     ]
    }
   ],
   "source": [
    "distancia_final = int(calculo * 0.621)\n",
    "print(distancia_final)"
   ]
  },
  {
   "cell_type": "markdown",
   "metadata": {},
   "source": [
    "## Ejercicio 2 Convierte cadenas en numeros y usa valores absolutos"
   ]
  },
  {
   "cell_type": "code",
   "execution_count": 68,
   "metadata": {},
   "outputs": [
    {
     "name": "stdout",
     "output_type": "stream",
     "text": [
      "Aldo Spezzia La distancia entre el planeta 1 y 2 es:  628949330 KM\n",
      "La distancia en millas es:  390577533 MI\n"
     ]
    }
   ],
   "source": [
    "nombre = input(str(\"Cual es tu nombre\"))\n",
    "primer_planeta = input('Introduzca la distancia del sol para el primer planeta en KM')\n",
    "segundo_planeta = input('Introduzca la distancia desde el sol para el segundo planeta en KM')\n",
    "\n",
    "primer_planeta = int(primer_planeta)\n",
    "segundo_planeta = int (segundo_planeta)\n",
    "\n",
    "distancia_km = abs((primer_planeta - segundo_planeta ))\n",
    "print(nombre,\"La distancia entre el planeta 1 y 2 es: \",distancia_km, 'KM')\n",
    "\n",
    "formula = 0.621\n",
    "distancia_mi = abs((distancia_km * formula))\n",
    "print('La distancia en millas es: ',int(distancia_mi), 'MI')\n"
   ]
  }
 ],
 "metadata": {
  "interpreter": {
   "hash": "57baa5815c940fdaff4d14510622de9616cae602444507ba5d0b6727c008cbd6"
  },
  "kernelspec": {
   "display_name": "Python 3.7.8 64-bit",
   "language": "python",
   "name": "python3"
  },
  "language_info": {
   "codemirror_mode": {
    "name": "ipython",
    "version": 3
   },
   "file_extension": ".py",
   "mimetype": "text/x-python",
   "name": "python",
   "nbconvert_exporter": "python",
   "pygments_lexer": "ipython3",
   "version": "3.7.8"
  },
  "orig_nbformat": 4
 },
 "nbformat": 4,
 "nbformat_minor": 2
}
